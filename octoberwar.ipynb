{
 "cells": [
  {
   "cell_type": "code",
   "execution_count": 5,
   "id": "09949f77",
   "metadata": {},
   "outputs": [],
   "source": [
    "import pandas as pd\n"
   ]
  },
  {
   "cell_type": "code",
   "execution_count": 6,
   "id": "a89f8f93",
   "metadata": {},
   "outputs": [
    {
     "name": "stdout",
     "output_type": "stream",
     "text": [
      "        operation_name        date             egyptian_commander  \\\n",
      "0  Mansoura Air Battle  10/14/1973      Air Marshal Hosni Mubarak   \n",
      "1      Ismailia Battle  10/22/1973  Maj. Gen. Abdel Moneim Khalil   \n",
      "\n",
      "  egyptian_losses_est               israeli_losses_est  \n",
      "0          6 aircraft  17 aircraft (Israel admitted 7)  \n",
      "1            25killed               70 killed, 40tanks  \n"
     ]
    }
   ],
   "source": [
    "df=pd.read_csv(r\"c:\\Users\\HP\\Downloads\\october_war_operations_major_battles.csv\")\n",
    "\n",
    "print(df)"
   ]
  },
  {
   "cell_type": "code",
   "execution_count": 7,
   "id": "baec4dfa",
   "metadata": {},
   "outputs": [
    {
     "name": "stdout",
     "output_type": "stream",
     "text": [
      "0   1973-10-14\n",
      "1   1973-10-22\n",
      "Name: date, dtype: datetime64[ns]\n"
     ]
    }
   ],
   "source": [
    "#change data type into datetime\n",
    "\n",
    "df['date']=pd.to_datetime(df['date'],errors='coerce')\n",
    "\n",
    "print(df['date'])"
   ]
  },
  {
   "cell_type": "code",
   "execution_count": 8,
   "id": "156ae2b8",
   "metadata": {},
   "outputs": [
    {
     "name": "stdout",
     "output_type": "stream",
     "text": [
      "        operation_name       date             egyptian_commander  \\\n",
      "0  Mansoura Air Battle 1973-10-14      Air Marshal Hosni Mubarak   \n",
      "1      Ismailia Battle 1973-10-22  Maj. Gen. Abdel Moneim Khalil   \n",
      "\n",
      "  egyptian_losses_est               israeli_losses_est  eg_aircraft_lost  \\\n",
      "0          6 aircraft  17 aircraft (Israel admitted 7)               6.0   \n",
      "1            25killed               70 killed, 40tanks               NaN   \n",
      "\n",
      "   isr_aircraft_lost  \n",
      "0               17.0  \n",
      "1                NaN  \n"
     ]
    }
   ],
   "source": [
    "#generate new column to put the aircraft losses for each country on it\n",
    "\n",
    "df['eg_aircraft_lost']=df['egyptian_losses_est'].str.extract(r'(\\d+)\\s*aircraft').astype(float)\n",
    "df['isr_aircraft_lost']=df['israeli_losses_est'].str.extract(r'(\\d+)\\s*aircraft').astype(float)\n",
    "print(df)"
   ]
  },
  {
   "cell_type": "code",
   "execution_count": 9,
   "id": "967501d4",
   "metadata": {},
   "outputs": [
    {
     "name": "stdout",
     "output_type": "stream",
     "text": [
      "        operation_name       date             egyptian_commander  \\\n",
      "0  Mansoura Air Battle 1973-10-14      Air Marshal Hosni Mubarak   \n",
      "1      Ismailia Battle 1973-10-22  Maj. Gen. Abdel Moneim Khalil   \n",
      "\n",
      "  egyptian_losses_est               israeli_losses_est  eg_aircraft_lost  \\\n",
      "0          6 aircraft  17 aircraft (Israel admitted 7)               6.0   \n",
      "1            25killed               70 killed, 40tanks               NaN   \n",
      "\n",
      "   isr_aircraft_lost  eg_killed  isr_killed  isr_tanks_lost  eg_tank_lost  \n",
      "0               17.0        NaN         NaN             NaN           NaN  \n",
      "1                NaN       25.0        70.0            40.0           NaN  \n"
     ]
    }
   ],
   "source": [
    "#generate columns for the killed people and the number of tanks lost\n",
    "\n",
    "df['eg_killed']=df['egyptian_losses_est'].str.extract(r'(\\d+)\\s*killed').astype(float)\n",
    "df['isr_killed']=df['israeli_losses_est'].str.extract(r'(\\d+)\\s*killed').astype(float)\n",
    "df['isr_tanks_lost']=df['israeli_losses_est'].str.extract(r'(\\d+)\\s*tanks').astype(float)\n",
    "df['eg_tank_lost']=df['egyptian_losses_est'].str.extract(r'(\\d+)\\s*tanks').astype(float)\n",
    "\n",
    "print(df)"
   ]
  },
  {
   "cell_type": "code",
   "execution_count": 10,
   "id": "ed1b14ab",
   "metadata": {},
   "outputs": [
    {
     "name": "stdout",
     "output_type": "stream",
     "text": [
      "        operation_name       date             egyptian_commander  \\\n",
      "0  Mansoura Air Battle 1973-10-14      Air Marshal Hosni Mubarak   \n",
      "1      Ismailia Battle 1973-10-22  Maj. Gen. Abdel Moneim Khalil   \n",
      "\n",
      "  egyptian_losses_est               israeli_losses_est  eg_aircraft_lost  \\\n",
      "0          6 aircraft  17 aircraft (Israel admitted 7)               6.0   \n",
      "1            25killed               70 killed, 40tanks               0.0   \n",
      "\n",
      "   isr_aircraft_lost  eg_killed  isr_killed  isr_tanks_lost  eg_tank_lost  \n",
      "0               17.0        0.0         0.0             0.0           0.0  \n",
      "1                0.0       25.0        70.0            40.0           0.0  \n"
     ]
    }
   ],
   "source": [
    "#replace nulls \n",
    "\n",
    "df['eg_aircraft_lost']=df['eg_aircraft_lost'].fillna(0)\n",
    "df['eg_killed']=df['eg_killed'].fillna(0)\n",
    "df['eg_tank_lost']=df['eg_tank_lost'].fillna(0)\n",
    "df['isr_aircraft_lost']=df['isr_aircraft_lost'].fillna(0)\n",
    "df['isr_killed']=df['isr_killed'].fillna(0)\n",
    "df['isr_tanks_lost']=df['isr_tanks_lost'].fillna(0)\n",
    "\n",
    "print(df)"
   ]
  },
  {
   "cell_type": "code",
   "execution_count": 12,
   "id": "04a019f5",
   "metadata": {},
   "outputs": [],
   "source": [
    "df.to_csv(r\"C:\\Users\\HP\\Downloads\\cleaned_octoberwar.csv\", index=False)\n"
   ]
  }
 ],
 "metadata": {
  "kernelspec": {
   "display_name": "base",
   "language": "python",
   "name": "python3"
  },
  "language_info": {
   "codemirror_mode": {
    "name": "ipython",
    "version": 3
   },
   "file_extension": ".py",
   "mimetype": "text/x-python",
   "name": "python",
   "nbconvert_exporter": "python",
   "pygments_lexer": "ipython3",
   "version": "3.11.7"
  }
 },
 "nbformat": 4,
 "nbformat_minor": 5
}
